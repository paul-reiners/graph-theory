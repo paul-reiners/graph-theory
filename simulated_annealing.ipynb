{
  "nbformat": 4,
  "nbformat_minor": 0,
  "metadata": {
    "colab": {
      "provenance": [],
      "authorship_tag": "ABX9TyM7Px/H4AYDI9vTmpmxxHAj",
      "include_colab_link": true
    },
    "kernelspec": {
      "name": "python3",
      "display_name": "Python 3"
    },
    "language_info": {
      "name": "python"
    }
  },
  "cells": [
    {
      "cell_type": "markdown",
      "metadata": {
        "id": "view-in-github",
        "colab_type": "text"
      },
      "source": [
        "<a href=\"https://colab.research.google.com/github/paul-reiners/graph-theory/blob/main/simulated_annealing.ipynb\" target=\"_parent\"><img src=\"https://colab.research.google.com/assets/colab-badge.svg\" alt=\"Open In Colab\"/></a>"
      ]
    },
    {
      "cell_type": "code",
      "source": [
        "# Define file paths\n",
        "DATA_DIR = './data'\n",
        "MALE_GRAPH_FILE = f\"{DATA_DIR}/male_connectome_graph.csv.gz\"\n",
        "FEMALE_GRAPH_FILE = f\"{DATA_DIR}/female_connectome_graph.csv.gz\"\n",
        "MATCHING_FILE = f\"{DATA_DIR}/vnc_matching_submission_benchmark_5154247.csv.gz\""
      ],
      "metadata": {
        "id": "g4mTPZC74Xei"
      },
      "execution_count": 2,
      "outputs": []
    },
    {
      "cell_type": "code",
      "source": [
        "import pandas as pd\n",
        "\n",
        "def load_edges(file_path):\n",
        "    \"\"\"Load edges from a CSV file into a dictionary.\"\"\"\n",
        "    df = pd.read_csv(file_path)\n",
        "    return {(row[0], row[1]): int(row[2]) for _, row in df.iterrows()}"
      ],
      "metadata": {
        "id": "jpbGZdBn5u1x"
      },
      "execution_count": 3,
      "outputs": []
    },
    {
      "cell_type": "code",
      "source": [
        "def load_matching(file_path):\n",
        "    \"\"\"Load matching data from a CSV file into a dictionary.\"\"\"\n",
        "    df = pd.read_csv(file_path)\n",
        "    return {row[0]: row[1] for _, row in df.iterrows()}"
      ],
      "metadata": {
        "id": "Ndv-sgUK5_3x"
      },
      "execution_count": 4,
      "outputs": []
    },
    {
      "cell_type": "code",
      "source": [
        "male_edges = load_edges(MALE_GRAPH_FILE)\n",
        "female_edges = load_edges(FEMALE_GRAPH_FILE)\n",
        "matching = load_matching(MATCHING_FILE)"
      ],
      "metadata": {
        "colab": {
          "base_uri": "https://localhost:8080/"
        },
        "id": "t65i1Hyo5iil",
        "outputId": "ea6d4f00-a02d-4c63-f18e-0a8201073de1"
      },
      "execution_count": 5,
      "outputs": [
        {
          "output_type": "stream",
          "name": "stderr",
          "text": [
            "<ipython-input-3-515daafed921>:6: FutureWarning: Series.__getitem__ treating keys as positions is deprecated. In a future version, integer keys will always be treated as labels (consistent with DataFrame behavior). To access a value by position, use `ser.iloc[pos]`\n",
            "  return {(row[0], row[1]): int(row[2]) for _, row in df.iterrows()}\n",
            "<ipython-input-3-515daafed921>:6: FutureWarning: Series.__getitem__ treating keys as positions is deprecated. In a future version, integer keys will always be treated as labels (consistent with DataFrame behavior). To access a value by position, use `ser.iloc[pos]`\n",
            "  return {(row[0], row[1]): int(row[2]) for _, row in df.iterrows()}\n",
            "<ipython-input-4-0737f9e8553b>:4: FutureWarning: Series.__getitem__ treating keys as positions is deprecated. In a future version, integer keys will always be treated as labels (consistent with DataFrame behavior). To access a value by position, use `ser.iloc[pos]`\n",
            "  return {row[0]: row[1] for _, row in df.iterrows()}\n"
          ]
        }
      ]
    },
    {
      "cell_type": "code",
      "source": [
        "class Problem:\n",
        "  def __init__(self, initial_state) -> None:\n",
        "    self.initial_state = initial_state"
      ],
      "metadata": {
        "id": "NkhyEWae2BWZ"
      },
      "execution_count": null,
      "outputs": []
    },
    {
      "cell_type": "code",
      "execution_count": 1,
      "metadata": {
        "colab": {
          "base_uri": "https://localhost:8080/",
          "height": 106
        },
        "id": "WQQp-T6dzMza",
        "outputId": "9a20ab19-6129-471b-ae92-9a72654d2149"
      },
      "outputs": [
        {
          "output_type": "error",
          "ename": "SyntaxError",
          "evalue": "invalid syntax (<ipython-input-1-55894266dd66>, line 13)",
          "traceback": [
            "\u001b[0;36m  File \u001b[0;32m\"<ipython-input-1-55894266dd66>\"\u001b[0;36m, line \u001b[0;32m13\u001b[0m\n\u001b[0;31m    next = a randomly selected successor of current\u001b[0m\n\u001b[0m             ^\u001b[0m\n\u001b[0;31mSyntaxError\u001b[0m\u001b[0;31m:\u001b[0m invalid syntax\n"
          ]
        }
      ],
      "source": [
        "def simulated_annealing(problem, schedule):\n",
        "  \"\"\"\n",
        "  returns a solution state\n",
        "  inputs: problem: a problem\n",
        "  schedule: a mapping from time to \"temperature\"\n",
        "  \"\"\"\n",
        "\n",
        "  current = make_node(problem.initial_state)\n",
        "  for t in range(1000000):\n",
        "    T = schedule(t)\n",
        "    if T == 0:\n",
        "      return current\n",
        "    next = a randomly selected successor of current\n",
        "    delta_e = next.value - current.value\n",
        "    if delta_e > 0:\n",
        "      current = next\n",
        "    else:\n",
        "      current = next only with probability e^(delta_e / T)"
      ]
    }
  ]
}